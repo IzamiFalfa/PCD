{
  "nbformat": 4,
  "nbformat_minor": 0,
  "metadata": {
    "colab": {
      "provenance": []
    },
    "kernelspec": {
      "name": "python3",
      "display_name": "Python 3"
    },
    "language_info": {
      "name": "python"
    }
  },
  "cells": [
    {
      "cell_type": "markdown",
      "source": [
        "# **Download Model Haar Cascades**"
      ],
      "metadata": {
        "id": "I91yEt7xY930"
      }
    },
    {
      "cell_type": "markdown",
      "source": [
        "File XML ini berisi informasi mengenai struktur kaskade dari fitur-fitur visual yang digunakan untuk mendeteksi wajah. File XML ini dapat digunakan oleh para programmer untuk membangun aplikasi yang dapat mendeteksi wajah secara real-time atau pada gambar statis."
      ],
      "metadata": {
        "id": "VS-itV5dZLKL"
      }
    },
    {
      "cell_type": "code",
      "source": [
        "!wget https://raw.githubusercontent.com/opencv/opencv/master/data/haarcascades/haarcascade_frontalface_default.xml\n"
      ],
      "metadata": {
        "id": "hmx23X7pyzU8"
      },
      "execution_count": null,
      "outputs": []
    },
    {
      "cell_type": "markdown",
      "source": [
        "# **Import Library yang diperlukan**"
      ],
      "metadata": {
        "id": "57v0kEzKZzwx"
      }
    },
    {
      "cell_type": "code",
      "source": [
        "import cv2\n",
        "from google.colab.patches import cv2_imshow\n",
        "from google.colab import files\n",
        "face_cascade = cv2.CascadeClassifier('haarcascade_frontalface_default.xml')\n"
      ],
      "metadata": {
        "id": "ceuWvo9jy05c"
      },
      "execution_count": 6,
      "outputs": []
    },
    {
      "cell_type": "markdown",
      "source": [
        "# **Upload Gambar yang ingin Dideteksi**"
      ],
      "metadata": {
        "id": "tPBUeAE2aIMN"
      }
    },
    {
      "cell_type": "code",
      "source": [
        "uploaded = files.upload()\n",
        "\n",
        "for name, content in uploaded.items():\n",
        "  with open(name, 'wb') as f:\n",
        "    f.write(content)\n",
        "\n",
        "img = cv2.imread(list(uploaded.keys())[0])\n"
      ],
      "metadata": {
        "id": "Fv0Pg93Wy3WI"
      },
      "execution_count": null,
      "outputs": []
    },
    {
      "cell_type": "markdown",
      "source": [
        "#**Proses Gambar dan Menampilkan Hasilnya**"
      ],
      "metadata": {
        "id": "VkB81IEaaT_J"
      }
    },
    {
      "cell_type": "code",
      "source": [
        "gray = cv2.cvtColor(img, cv2.COLOR_BGR2GRAY)\n",
        "faces = face_cascade.detectMultiScale(gray, 1.3, 5)\n",
        "\n",
        "for (x,y,w,h) in faces:\n",
        "    cv2.rectangle(img,(x,y),(x+w,y+h),(255,0,0),2)\n",
        "\n",
        "cv2_imshow(img)\n"
      ],
      "metadata": {
        "id": "RWK_hJ4ay5QP"
      },
      "execution_count": null,
      "outputs": []
    }
  ]
}